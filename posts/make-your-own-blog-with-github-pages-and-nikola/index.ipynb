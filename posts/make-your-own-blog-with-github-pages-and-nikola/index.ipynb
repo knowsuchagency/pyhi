{
 "cells": [
  {
   "cell_type": "markdown",
   "metadata": {
    "collapsed": false,
    "slideshow": {
     "slide_type": "slide"
    }
   },
   "source": [
    "Today, we're going to start by taking a look at how to make a blog using the static website generation framework called [**Nikola**](http://getnikola.com)."
   ]
  },
  {
   "cell_type": "markdown",
   "metadata": {
    "slideshow": {
     "slide_type": "fragment"
    }
   },
   "source": [
    "Secondly, we're going to see how we can easily host our blog on the interwebs using [**github pages**](https://pages.github.com/).\n",
    "\n"
   ]
  },
  {
   "cell_type": "markdown",
   "metadata": {
    "slideshow": {
     "slide_type": "fragment"
    }
   },
   "source": [
    "Last, we'll look at how we can create our content using [**Jupyter**](https://jupyter.org/) notebooks.\n",
    "<!-- TEASER_END -->\n",
    "\n",
    "---"
   ]
  },
  {
   "cell_type": "markdown",
   "metadata": {
    "slideshow": {
     "slide_type": "slide"
    }
   },
   "source": [
    "First things, first. We're going to need to install some software on our machine. It will help you have a very basic understanding of git and Python, but if you don't, it's ok. We're going to start with the basics.\n",
    "\n",
    "These instructions are based on OS X, but the instructions will be similar for Linux, or even windows. The only real differences should be in how you install software.\n",
    "\n",
    "---"
   ]
  },
  {
   "cell_type": "markdown",
   "metadata": {
    "slideshow": {
     "slide_type": "slide"
    }
   },
   "source": [
    "First, let's ensure we have git installed. Open a terminal and type in:\n",
    "\n",
    "    which git\n",
    "    \n",
    "If that returns a path to git, we're good. Otherwise type:\n",
    "\n",
    "    xcode-select -install\n",
    "    \n",
    "This will open an alert box prompting you to install xcode's command line tools, which includes git.\n",
    "\n",
    "---"
   ]
  },
  {
   "cell_type": "markdown",
   "metadata": {
    "slideshow": {
     "slide_type": "slide"
    }
   },
   "source": [
    "Next, we're going to install [**Homebrew**](http://brew.sh/). Homebrew is a package manager for OS X. It's basically a utility that makes it easy to install and maintain software on to your computer. In a terminal, run:\n",
    "```\n",
    "ruby -e \"$(curl -fsSL https://raw.githubusercontent.com/Homebrew/install/master/install)\"\n",
    "```\n",
    "\n",
    "Next, we're going to install an extension of homebrew called [**Cask**](http://caskroom.io/). Cask allows us to install even more software to include things like Google Chrome using the homebrew package manager. Type in:\n",
    "\n",
    "    brew install caskroom/cask/brew-cask\n",
    "\n",
    "---"
   ]
  },
  {
   "cell_type": "markdown",
   "metadata": {
    "slideshow": {
     "slide_type": "slide"
    }
   },
   "source": [
    "Now we can install [**atom**](https://atom.io/), an open-source text editor maintained by [**github**](https://github.com/).\n",
    "\n",
    "    brew cask install atom\n",
    "\n",
    "---"
   ]
  },
  {
   "cell_type": "markdown",
   "metadata": {
    "slideshow": {
     "slide_type": "slide"
    }
   },
   "source": [
    "Additionally, we want to make sure we're using the latest version of **Python** on our machine, which is 3.5.0 at the time of this article. Downloads can be found [**here**](https://www.python.org/downloads/https://www.python.org/downloads/)\n",
    "\n",
    "---"
   ]
  },
  {
   "cell_type": "markdown",
   "metadata": {
    "slideshow": {
     "slide_type": "slide"
    }
   },
   "source": [
    "Now that we have the latest Python installed, we just need to install the Nikola and IPython libraries\n",
    "\n",
    "    pip install \"Nikola[extras]\"\n",
    "    pip install \"ipython[all]\"\n",
    "    \n",
    "---"
   ]
  },
  {
   "cell_type": "markdown",
   "metadata": {
    "slideshow": {
     "slide_type": "slide"
    }
   },
   "source": [
    "Lastly, we can install the [**livereload**](https://chrome.google.com/webstore/detail/livereload/jnihajbhpnppcggbcgedagnkighmdlei?hl=en) plugin for chrome so that we can see how our website changes as we edit the content without having to re-create the website and refresh our browser each time a change is made. \n",
    "\n",
    "---"
   ]
  },
  {
   "cell_type": "markdown",
   "metadata": {
    "slideshow": {
     "slide_type": "slide"
    }
   },
   "source": [
    "Next, we're going to want to create a new project on github. If you don't yet have an account and don't know how to make a project, doing so is really straightforward. Just go to github.com, create an account, log in, and click on the green *create repository* or just navigate to https://github.com/new . Let's call it **nikola-demo**\n",
    "\n",
    "---"
   ]
  },
  {
   "cell_type": "markdown",
   "metadata": {
    "slideshow": {
     "slide_type": "slide"
    }
   },
   "source": [
    "I've named my new repository **nikola-demo**, and I'm not ready to clone that repository on to my local machine. A git repo is sort of like a series of snapshots of all the files and folders in a project. Github hosts repositories, meaning that you can download repositories onto your local machine from github (pull) and upload repositories to github from you machine (push).\n",
    "\n",
    "---"
   ]
  },
  {
   "cell_type": "markdown",
   "metadata": {
    "slideshow": {
     "slide_type": "slide"
    }
   },
   "source": [
    "So now, that I have created my new project in github, I'm ready to clone it onto my local machine. The clone command will create a new folder in the directory you're in named after the project you're cloning. Then it will pull all of the files from github into that folder, essentially creating a copy of that project.\n",
    "\n",
    "    git clone git@github.com:knowsuchagency/nikola-demo.git\n",
    "    \n",
    "For you, the url would change based on your account name and the project you created\n",
    "\n",
    "    git clone git@github.com:<your-username>/<your-project>.git\n",
    "\n",
    "---"
   ]
  },
  {
   "cell_type": "markdown",
   "metadata": {
    "slideshow": {
     "slide_type": "slide"
    }
   },
   "source": [
    "Next, we change directory into that folder.\n",
    "\n",
    "    cd nikola-demo\n",
    "    \n",
    "---"
   ]
  },
  {
   "cell_type": "markdown",
   "metadata": {
    "slideshow": {
     "slide_type": "slide"
    }
   },
   "source": [
    "To create our project, we run\n",
    "\n",
    "    nikola init\n",
    "    \n",
    "The command will ask us a few questions. This first question isn't very clear, but it's asking what folder we want to create our project in. We don't want to create a new folder, so to use the one we're currently in, we just type in '.' (no single-quotes)\n",
    "\n",
    "For every other question, you can type in what you like or leave it blank. For the purpose of this demo, it's all the same.\n",
    "\n",
    "---"
   ]
  },
  {
   "cell_type": "markdown",
   "metadata": {
    "slideshow": {
     "slide_type": "slide"
    }
   },
   "source": [
    "Nikola has now created some folders for us as well as a configuration file, conf.py \n",
    "\n",
    "Let's now open our project in atom. Type:\n",
    "\n",
    "    atom .\n",
    "\n",
    "---"
   ]
  },
  {
   "cell_type": "markdown",
   "metadata": {
    "slideshow": {
     "slide_type": "slide"
    }
   },
   "source": [
    "Now, because we want to write content using Jupyter notbooks, we need to make a couple of slight changes to the conf.py file.\n",
    "\n",
    "In the left pane in atom, double-click on conf.py to open it and navigate to the POSTS and PAGES variables. We need to add .ipynb files as a format that nikola can use. We do that by adding a tuple to each of these variables like so:\n",
    "\n",
    "```python\n",
    "POSTS = (\n",
    "    (\"posts/*.rst\", \"posts\", \"post.tmpl\"),\n",
    "    (\"posts/*.txt\", \"posts\", \"post.tmpl\"),\n",
    "    (\"posts/*.ipynb\", \"posts\", \"post.tmpl\"),\n",
    ")\n",
    "PAGES = (\n",
    "    (\"stories/*.rst\", \"stories\", \"story.tmpl\"),\n",
    "    (\"stories/*.txt\", \"stories\", \"story.tmpl\"),\n",
    "    (\"stories/*.ipynb\", \"stories\", \"story.tmpl\"),\n",
    ")\n",
    "```\n",
    "\n",
    "Make sure to save the file once you've made the edits.\n",
    "\n",
    "---"
   ]
  },
  {
   "cell_type": "markdown",
   "metadata": {
    "slideshow": {
     "slide_type": "slide"
    }
   },
   "source": [
    "Now we can create a new post and specify Ipython Notebook as the format we want to use\n",
    "\n",
    "    nikola new_post -f ipynb\n",
    "    \n",
    "This will ask you what you want to call your post. Let's call it My First Post. This will create a file:\n",
    "\n",
    "posts/my-first-post.ipynb\n",
    "\n",
    "---"
   ]
  },
  {
   "cell_type": "markdown",
   "metadata": {
    "slideshow": {
     "slide_type": "slide"
    }
   },
   "source": [
    "Next open a new terminal and navigate to the posts/ directory in your project and run:\n",
    "\n",
    "    ipython notebook\n",
    "    \n",
    "You'll see a list of the ipython notebooks in that folder. There should only be the one we just created. Click on it, and it will open a new tab in your browser where we can edit that notebook.\n",
    "    \n",
    "In the other terminal window type in:\n",
    "\n",
    "    nikola auto -b\n",
    "    \n",
    "nikola is now running a server with your website on your machine that will be accessible in your browser window at localhost:8000 by default.\n",
    "\n",
    "---"
   ]
  },
  {
   "cell_type": "markdown",
   "metadata": {
    "slideshow": {
     "slide_type": "slide"
    }
   },
   "source": [
    "Now, as we make edits to our ipython notebook and save them, we can see how our site will change simultaneously without having to rebuid the website or even reload the webpage that our website is in!\n",
    "\n",
    "---"
   ]
  },
  {
   "cell_type": "markdown",
   "metadata": {
    "slideshow": {
     "slide_type": "slide"
    }
   },
   "source": [
    "Once we're done editing our notebook, let's save our changes to github. We should tell git to ignore some files first:\n",
    "\n",
    "```\n",
    "_site/\n",
    "*.pyc\n",
    ".DS_Store\n",
    "cache/\n",
    "output/\n",
    "**/.ipynb_checkpoints/\n",
    "```\n",
    "\n",
    "Save those lines to a file .gitignore in your project's root directory. You can do this by typing in `atom .gitignore` from the project root or if you prefer, you can copy those lines and type:\n",
    "\n",
    "    pbpaste > .gitignore\n",
    "    \n",
    "---"
   ]
  },
  {
   "cell_type": "markdown",
   "metadata": {
    "slideshow": {
     "slide_type": "slide"
    }
   },
   "source": [
    "Next, let's commit our changes on our local machine. Type in:\n",
    "\n",
    "    git add .\n",
    "    git commit -m \"Initial commit.\"\n",
    "\n",
    "Now, to push those changes to github, type:\n",
    "\n",
    "    git push\n",
    "    \n",
    "---"
   ]
  },
  {
   "cell_type": "markdown",
   "metadata": {
    "slideshow": {
     "slide_type": "slide"
    }
   },
   "source": [
    "Before publishing to github pages, let's install a theme for out blog. We can see the available themes by typing in `nikola install_theme -l` from our project root.\n",
    "\n",
    "Let's install the ipython-xkcd theme:\n",
    "\n",
    "    nikola install_theme ipython-xkcd\n",
    "    \n",
    "Now in conf.py, edit the THEME variable \n",
    "```python\n",
    "THEME = \"ipython-xkcd\"\n",
    "```\n",
    "\n",
    "---"
   ]
  },
  {
   "cell_type": "markdown",
   "metadata": {
    "slideshow": {
     "slide_type": "slide"
    }
   },
   "source": [
    "We can now see what our site looks like by typing in `nikola auto -b` again.\n",
    "\n",
    "Now let's update our git repo with our changes.\n",
    "\n",
    "    git add .\n",
    "    git commit -m \"Installed a new theme and edited conf.py\"\n",
    "    git push\n",
    "    \n",
    "---"
   ]
  },
  {
   "cell_type": "markdown",
   "metadata": {
    "slideshow": {
     "slide_type": "slide"
    }
   },
   "source": [
    "We're ready to deploy to github! Nikola includes a handy github_deploy command to allow us to quickly publish to github pages.\n",
    "\n",
    "    nikola github_deploy\n",
    "    \n",
    "So what just happened?\n",
    "\n",
    "1. Nikola checked out a new branch in git (gh-pages)\n",
    "2. It built the website in that branch\n",
    "3. It pushed that branch to github\n",
    "4. Master branch was checked out again\n",
    "\n",
    "Ta da! Your blog is now available at \n",
    "\n",
    "    <your-username>.github.io/nikola-demo\n",
    "\n",
    "Basically, any project you have in github that has a gh-pages branch can be accessed via `<your-username>.github.io/<your-project>`.\n",
    "\n",
    "---"
   ]
  },
  {
   "cell_type": "markdown",
   "metadata": {
    "slideshow": {
     "slide_type": "slide"
    }
   },
   "source": [
    "**[Nikola]** is just one framework that allows you to create static websites and host them on github pages. **[Jekyll]** is a common one that is written in Ruby and the default framework used by github. It is probably the most popular framework and thus probably has the most themes.   \n",
    "\n",
    "Another popular framework for Python is **[Pelican]**. Pelican is more popular than Nikola and has more themes, but I chose Nikola because it has better support for Jupyter notebooks and it is easier to write content in multiple different formats and have them render correctly on your site. In my experience when using Pelican. If I wrote one article in IPython notebook format and another in reStructuredText, one of the articles would end up looking strange because of the way Pelican uses CSS.\n",
    "\n",
    "[Nikola]: http://getnikola.com/\n",
    "[Pelican]: http://blog.getpelican.com/\n",
    "[Jekyll]: https://jekyllrb.com/"
   ]
  }
 ],
 "metadata": {
  "celltoolbar": "Slideshow",
  "kernelspec": {
   "display_name": "Python 3",
   "language": "python",
   "name": "python3"
  },
  "language_info": {
   "codemirror_mode": {
    "name": "ipython",
    "version": 3
   },
   "file_extension": ".py",
   "mimetype": "text/x-python",
   "name": "python",
   "nbconvert_exporter": "python",
   "pygments_lexer": "ipython3",
   "version": "3.4.3"
  }
 },
 "nbformat": 4,
 "nbformat_minor": 0
}
