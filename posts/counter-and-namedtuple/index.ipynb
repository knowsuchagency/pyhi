{
 "cells": [
  {
   "cell_type": "markdown",
   "metadata": {
    "slideshow": {
     "slide_type": "slide"
    }
   },
   "source": [
    "### Collections\n",
    "* Counter - For counting the number of things in a thing :)\n",
    "* namedtuple - For writing self-documenting code!\n",
    "<!-- TEASER_END -->"
   ]
  },
  {
   "cell_type": "markdown",
   "metadata": {
    "slideshow": {
     "slide_type": "slide"
    }
   },
   "source": [
    "## collection.Counter\n",
    "\n",
    "Counters are dictionaries that have a number value for each key. They're very useful when you need to count the number of elements in a collection, for example the word count of a portion of text. "
   ]
  },
  {
   "cell_type": "code",
   "execution_count": 1,
   "metadata": {
    "collapsed": false,
    "slideshow": {
     "slide_type": "skip"
    }
   },
   "outputs": [],
   "source": [
    "from collections import Counter, namedtuple\n",
    "from pathlib import Path\n",
    "from pprint import pprint\n",
    "import requests\n",
    "import csv"
   ]
  },
  {
   "cell_type": "code",
   "execution_count": 2,
   "metadata": {
    "collapsed": false,
    "slideshow": {
     "slide_type": "slide"
    }
   },
   "outputs": [
    {
     "name": "stdout",
     "output_type": "stream",
     "text": [
      "color_count: Counter({'blue': 3, 'red': 2, 'yellow': 1, 'green': 1}) \n",
      "\n",
      "color_count_2: Counter({'blue': 7, 'red': 5, 'green': 2, 'orange': 1}) \n",
      "\n",
      "addition: Counter({'blue': 10, 'red': 7, 'green': 3, 'orange': 1, 'yellow': 1}) \n",
      "\n",
      "subtraction: Counter({'yellow': 1}) \n",
      "\n",
      "intersection: Counter({'blue': 3, 'red': 2, 'green': 1}) \n",
      "\n",
      "union: Counter({'blue': 7, 'red': 5, 'green': 2, 'orange': 1, 'yellow': 1}) \n",
      "\n"
     ]
    }
   ],
   "source": [
    "# Here we count the colors in a list\n",
    "color_count = Counter(['red', 'blue', 'red', 'green', 'blue', 'blue', 'yellow'])\n",
    "print('color_count:', color_count, '\\n')\n",
    "\n",
    "# Values can also be passed explicitly\n",
    "color_count_2 = Counter(red=5, green=2, blue=7, orange=1)\n",
    "print('color_count_2:', color_count_2, '\\n')\n",
    "\n",
    "# We can also compare Counter objects\n",
    "\n",
    "# Addition\n",
    "print('addition:', color_count + color_count_2, '\\n')\n",
    "\n",
    "# Subtraction\n",
    "print('subtraction:', color_count - color_count_2, '\\n')\n",
    "\n",
    "# Intersection\n",
    "print('intersection:', color_count & color_count_2, '\\n')\n",
    "\n",
    "# Union\n",
    "print('union:', color_count | color_count_2, '\\n')"
   ]
  },
  {
   "cell_type": "code",
   "execution_count": 3,
   "metadata": {
    "collapsed": false,
    "slideshow": {
     "slide_type": "slide"
    }
   },
   "outputs": [
    {
     "name": "stdout",
     "output_type": "stream",
     "text": [
      "Most common 10 words:\n",
      "('the', 70)\n",
      "('of', 32)\n",
      "('a', 30)\n",
      "('And', 23)\n",
      "('I', 21)\n",
      "('king', 18)\n",
      "('and', 17)\n",
      "('he', 14)\n",
      "('all', 14)\n",
      "('that', 13) \n",
      "\n",
      "Least common 10 words:\n",
      "('groan', 1)\n",
      "('I!\"', 1)\n",
      "('burp', 1)\n",
      "('Looked', 1)\n",
      "('small.', 1)\n",
      "('stay', 1)\n",
      "('families', 1)\n",
      "('back.', 1)\n",
      "('seeing', 1)\n",
      "('everything', 1)\n"
     ]
    }
   ],
   "source": [
    "# Let's do a word count on Dr. Suess' Yertle the Turtle\n",
    "r = requests.get('http://www.spunk.org/texts/prose/sp000212.txt')\n",
    "yertle = Counter(r.text.split())\n",
    "\n",
    "print('Most common 10 words:')\n",
    "print('\\n'.join(map(str, yertle.most_common(10))), '\\n')\n",
    "\n",
    "print('Least common 10 words:')\n",
    "print('\\n'.join(map(str, yertle.most_common()[:-11:-1])))"
   ]
  },
  {
   "cell_type": "markdown",
   "metadata": {
    "slideshow": {
     "slide_type": "slide"
    }
   },
   "source": [
    "## collections.namedtuple\n",
    "\n",
    "namedtuples allow you to write self-documenting code. They're most useful when you end up iterating over streams of data (like the rows in a csv) where you don't want to creates tuples and refer to them by their number index but where creating a dictionary may not be necessary. You can combine them with Counters to do cool stuff :)"
   ]
  },
  {
   "cell_type": "code",
   "execution_count": 4,
   "metadata": {
    "collapsed": false,
    "slideshow": {
     "slide_type": "slide"
    }
   },
   "outputs": [
    {
     "name": "stdout",
     "output_type": "stream",
     "text": [
      "Person(name='Amy', age=31) \n",
      "\n",
      "Person(name='Bob', age=17) \n",
      "\n",
      "Person(name='Susan', age=45) \n",
      "\n",
      "[Person(name='Aaron', age=56),\n",
      " Person(name='Wilfred', age=89),\n",
      " Person(name='Bertha', age=2)]\n"
     ]
    }
   ],
   "source": [
    "Person = namedtuple('Person', ['name', 'age'])\n",
    "\n",
    "amy = Person('Amy', 31)\n",
    "print(amy, '\\n')\n",
    "\n",
    "bob = Person(name='Bob', age=17)\n",
    "print(bob, '\\n')\n",
    "\n",
    "susan = Person(**{'name': 'Susan', 'age': 45})\n",
    "print(susan, '\\n')\n",
    "\n",
    "people = [\n",
    "    ('Aaron', 56),\n",
    "    ('Wilfred', 89),\n",
    "    ('Bertha', 2)\n",
    "    ]\n",
    "\n",
    "pprint(list(map(Person._make, people)))"
   ]
  },
  {
   "cell_type": "code",
   "execution_count": 5,
   "metadata": {
    "collapsed": false,
    "slideshow": {
     "slide_type": "slide"
    }
   },
   "outputs": [
    {
     "name": "stdout",
     "output_type": "stream",
     "text": [
      "Most common issues:\n",
      "[('Incorrect information on credit report', 881),\n",
      " (\"Cont'd attempts collect debt not owed\", 523),\n",
      " ('Loan modification,collection,foreclosure', 468)]\n",
      "\n",
      "Companies with the most complaints:\n",
      "[('Equifax', 526), ('Experian', 367), ('TransUnion', 327)]\n",
      "\n",
      "Managing the loan or lease \n",
      "\n",
      "Managing the loan or lease \n",
      "\n",
      "Complaint fields:\n",
      "('Complaint_ID',\n",
      " 'Product',\n",
      " 'Sub_product',\n",
      " 'Issue',\n",
      " 'Sub_issue',\n",
      " 'State',\n",
      " 'ZIP_code',\n",
      " 'Submitted_via',\n",
      " 'Date_received',\n",
      " 'Date_sent_to_company',\n",
      " 'Company',\n",
      " 'Company_response',\n",
      " 'Timely_response',\n",
      " 'Consumer_disputed')\n"
     ]
    }
   ],
   "source": [
    "def clean_line(line):\n",
    "    \"\"\"\n",
    "    Return a version of the string that is more compatible\n",
    "    with the creation of namedtuples.\n",
    "    \"\"\"\n",
    "    clean_word = lambda string: string.strip('\\n ?').replace(' ', '_').replace('-', '_')\n",
    "    return list(map(clean_word, line.split(',')))\n",
    "\n",
    "# This data is from the consumer complaints \n",
    "# dataset found on catalog.data.gov\n",
    "complaints_file = Path('..', 'files', 'Consumer_Complaints.csv')\n",
    "with complaints_file.open() as infile:\n",
    "    header = clean_line(infile.readline())\n",
    "    \n",
    "    Complaint = namedtuple('Complaint', header)\n",
    "    complaints = list(map(Complaint._make, csv.reader(infile)))\n",
    "    \n",
    "    issues = Counter([complaint.Issue for complaint in complaints])\n",
    "    print('Most common issues:')\n",
    "    pprint(issues.most_common(3))\n",
    "    print()\n",
    "    \n",
    "    companies = Counter([complaint.Company for complaint in complaints])\n",
    "    print('Companies with the most complaints:')\n",
    "    pprint(companies.most_common(3))\n",
    "    print()\n",
    "    \n",
    "    # namedtuples can act as dictionaries using their ._asdict() method\n",
    "    first_complaint = complaints[0]\n",
    "    print(first_complaint._asdict()['Issue'], '\\n')\n",
    "    \n",
    "    # It's normally better to refer to the namedtuple's attribute, however\n",
    "    print(first_complaint.Issue, '\\n')\n",
    "    \n",
    "    # We can also use the ._fields attribute to see all the other attributes\n",
    "    # of a particular namedtuple\n",
    "    print('Complaint fields:')\n",
    "    pprint(first_complaint._fields)\n",
    "    \n"
   ]
  },
  {
   "cell_type": "code",
   "execution_count": 6,
   "metadata": {
    "collapsed": false,
    "slideshow": {
     "slide_type": "slide"
    }
   },
   "outputs": [
    {
     "name": "stdout",
     "output_type": "stream",
     "text": [
      "The most common cause of death is:\n",
      "[('CEREBROVASCULAR DISEASE', 120)]\n"
     ]
    }
   ],
   "source": [
    "# This data is from New York's Leading Causes of Deaths \n",
    "# dataset found on catalog.data.gov\n",
    "death_file = Path('..', 'files', 'New_York_City_Leading_Causes_of_Death.csv')\n",
    "with death_file.open() as infile:\n",
    "    header = clean_line(infile.readline())\n",
    "    Death = namedtuple('Death', header)\n",
    "    deaths = map(Death._make, csv.reader(infile))\n",
    "    print('The most common cause of death is:')\n",
    "    print(Counter([death.Cause_of_Death for death in deaths]).most_common(1))"
   ]
  },
  {
   "cell_type": "code",
   "execution_count": null,
   "metadata": {
    "collapsed": true
   },
   "outputs": [],
   "source": []
  }
 ],
 "metadata": {
  "celltoolbar": "Slideshow",
  "kernelspec": {
   "display_name": "Python 3",
   "language": "python",
   "name": "python3"
  },
  "language_info": {
   "codemirror_mode": {
    "name": "ipython",
    "version": 3
   },
   "file_extension": ".py",
   "mimetype": "text/x-python",
   "name": "python",
   "nbconvert_exporter": "python",
   "pygments_lexer": "ipython3",
   "version": "3.4.3"
  },
  "nikola": {
   "category": "",
   "date": "2015-09-01 20:22:30 UTC-10:00",
   "description": "",
   "link": "",
   "slug": "counter-and-namedtuple",
   "tags": "",
   "title": "Counter and namedtuple",
   "type": "text"
  }
 },
 "nbformat": 4,
 "nbformat_minor": 0
}
