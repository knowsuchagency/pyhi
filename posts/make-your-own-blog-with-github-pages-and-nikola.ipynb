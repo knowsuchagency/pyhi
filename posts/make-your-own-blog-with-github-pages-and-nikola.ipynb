{
 "cells": [
  {
   "cell_type": "markdown",
   "metadata": {
    "collapsed": false,
    "slideshow": {
     "slide_type": "slide"
    }
   },
   "source": [
    "Today, we're going to start by taking a look at how to make a blog using the static website generation framework called [**Nikola**](http://getnikola.com)."
   ]
  },
  {
   "cell_type": "markdown",
   "metadata": {
    "slideshow": {
     "slide_type": "fragment"
    }
   },
   "source": [
    "Secondly, we're going to see how we can easily host our blog on the interwebs using [**github pages**](https://pages.github.com/)\n",
    "\n"
   ]
  },
  {
   "cell_type": "markdown",
   "metadata": {
    "slideshow": {
     "slide_type": "fragment"
    }
   },
   "source": [
    "Last, we'll look at how we can create our content using [**Jupyter**](https://jupyter.org/) notebooks.\n",
    "\n",
    "---"
   ]
  },
  {
   "cell_type": "markdown",
   "metadata": {
    "slideshow": {
     "slide_type": "slide"
    }
   },
   "source": [
    "First things, first. We're going to need to install some software on our machine. It will help you have a very basic understanding of git, and Python, but if you don't, it's ok. We're going to start at the basics. Also, these instructions are based on someone using OS X, but things will be similar for Linux, or even windows. The only differences should be in how you install software.\n",
    "\n",
    "---"
   ]
  },
  {
   "cell_type": "markdown",
   "metadata": {
    "slideshow": {
     "slide_type": "slide"
    }
   },
   "source": [
    "First, let's ensure we have git installed. Open a terminal and type in:\n",
    "\n",
    "    which git\n",
    "    \n",
    "If that returns a path to git, we're good. Otherwise type:\n",
    "\n",
    "    xcode-select -install\n",
    "    \n",
    "This will open an alert box prompting you to install xcode's command line tools, which includes git.\n",
    "\n",
    "---"
   ]
  },
  {
   "cell_type": "markdown",
   "metadata": {
    "slideshow": {
     "slide_type": "slide"
    }
   },
   "source": [
    "Next, we're going to install [**Homebrew**](http://brew.sh/). Homebrew is a package manager for OS X. It's basically a utility that makes it easy to install and maintain software on to your computer. In a terminal, run:\n",
    "```\n",
    "ruby -e \"$(curl -fsSL https://raw.githubusercontent.com/Homebrew/install/master/install)\"\n",
    "```\n",
    "\n",
    "Next, we're going to install an extension of homebrew called [**Cask**](http://caskroom.io/). Cask allows us to install even more software to include things like Google Chrome using the homebrew package manager. Type in:\n",
    "\n",
    "    brew install caskroom/cask/brew-cask\n",
    "\n",
    "---"
   ]
  },
  {
   "cell_type": "markdown",
   "metadata": {
    "slideshow": {
     "slide_type": "slide"
    }
   },
   "source": [
    "Now we can install [**atom**](https://atom.io/), an open-source text editor maintained by [**github**](https://github.com/).\n",
    "\n",
    "    brew cask install atom\n",
    "\n",
    "---"
   ]
  },
  {
   "cell_type": "markdown",
   "metadata": {
    "slideshow": {
     "slide_type": "slide"
    }
   },
   "source": [
    "Additionally, we want to make sure we're using the latest version of **Python** on our machine, which is 3.5.0 at the time of this article. Downloads can be found [**here**](https://www.python.org/downloads/https://www.python.org/downloads/)\n",
    "\n",
    "---"
   ]
  },
  {
   "cell_type": "markdown",
   "metadata": {
    "slideshow": {
     "slide_type": "slide"
    }
   },
   "source": [
    "Lastly, we can install the [**livereload**](https://chrome.google.com/webstore/detail/livereload/jnihajbhpnppcggbcgedagnkighmdlei?hl=en) plugin for chrome so that we can see how our website changes as we edit the content without having to re-create the website and refresh our browser each time a change is made. \n",
    "\n",
    "---"
   ]
  },
  {
   "cell_type": "markdown",
   "metadata": {
    "slideshow": {
     "slide_type": "slide"
    }
   },
   "source": [
    "Next, we're going to want to create a new project on github. If you don't yet have an account and don't know how to make a project, doing so is really straightforward. Just go to github.com, create an account, log in, and click on the green *create repository* or just navigate to https://github.com/new . Let's call it **nikola-demo**\n",
    "\n",
    "---"
   ]
  },
  {
   "cell_type": "markdown",
   "metadata": {
    "slideshow": {
     "slide_type": "slide"
    }
   },
   "source": [
    "I've named my new repository **nikola-demo**, and I'm not ready to clone that repository on to my local machine. A git repo is sort of like a series of snapshots of all the files and folders in a project. Github hosts repositories, meaning that you can download repositories onto your local machine from github (pull) and upload repositories to github from you machine (push).\n",
    "\n",
    "---"
   ]
  },
  {
   "cell_type": "markdown",
   "metadata": {
    "slideshow": {
     "slide_type": "slide"
    }
   },
   "source": [
    "So now, that I have created my new project in github, I'm ready to clone it onto my local machine. The clone command will create a new folder in the directory you're in named after the project you're cloning. Then it will pull all of the files from github into that folder, essentially creating a copy of that project.\n",
    "\n",
    "    git clone git@github.com:knowsuchagency/nikola-demo.git\n",
    "    \n",
    "For you, the url would change based on your account name and the project you created\n",
    "\n",
    "    git clone git@github.com:<your-username>/<your-project>.git\n",
    "\n",
    "---"
   ]
  },
  {
   "cell_type": "markdown",
   "metadata": {
    "slideshow": {
     "slide_type": "slide"
    }
   },
   "source": [
    "Next, we change directory into that folder.\n",
    "\n",
    "    cd nikola-demo\n",
    "    \n",
    "Now we want to install all the necessary libraries so that we can write a blog using Nikola and Jupyter Notebooks.\n",
    "\n",
    "---"
   ]
  },
  {
   "cell_type": "markdown",
   "metadata": {
    "slideshow": {
     "slide_type": "slide"
    }
   },
   "source": [
    "We need to install some libraries such as Nikola, Ipython, and others to make our blog. I'll use the pip freeze command to output all the libraries I have installed.\n",
    "\n",
    "---"
   ]
  },
  {
   "cell_type": "code",
   "execution_count": 4,
   "metadata": {
    "collapsed": false,
    "slideshow": {
     "slide_type": "fragment"
    }
   },
   "outputs": [
    {
     "name": "stdout",
     "output_type": "stream",
     "text": [
      "alabaster==0.7.6\r\n",
      "appnope==0.1.0\r\n",
      "argh==0.26.1\r\n",
      "Babel==2.1.1\r\n",
      "blinker==1.4\r\n",
      "cloudpickle==0.1.1\r\n",
      "decorator==4.0.4\r\n",
      "docutils==0.12\r\n",
      "doit==0.29.0\r\n",
      "ghp-import==0.4.1\r\n",
      "gnureadline==6.3.3\r\n",
      "husl==4.0.2\r\n",
      "ipykernel==4.0.3\r\n",
      "ipyparallel==4.0.2\r\n",
      "ipython==4.0.0\r\n",
      "ipython-genutils==0.1.0\r\n",
      "Jinja2==2.8\r\n",
      "jsonschema==2.5.1\r\n",
      "jupyter-client==4.0.0\r\n",
      "jupyter-core==4.0.6\r\n",
      "Logbook==0.10.1\r\n",
      "lxml==3.4.4\r\n",
      "MacFSEvents==0.4\r\n",
      "Mako==1.0.2\r\n",
      "Markdown==2.6.2\r\n",
      "MarkupSafe==0.23\r\n",
      "micawber==0.3.3\r\n",
      "mistune==0.7.1\r\n",
      "mock==1.3.0\r\n",
      "natsort==4.0.3\r\n",
      "nbconvert==4.0.0\r\n",
      "nbformat==4.0.0\r\n",
      "Nikola==7.7.1\r\n",
      "nose==1.3.7\r\n",
      "notebook==4.0.5\r\n",
      "numpydoc==0.5\r\n",
      "path.py==8.1.1\r\n",
      "pathtools==0.1.2\r\n",
      "pbr==1.8.0\r\n",
      "pexpect==3.3\r\n",
      "phpserialize==1.3\r\n",
      "pickleshare==0.5\r\n",
      "Pillow==2.9.0\r\n",
      "ptyprocess==0.5\r\n",
      "pygal==2.0.6\r\n",
      "Pygments==2.0.2\r\n",
      "Pyphen==0.9.1\r\n",
      "pyreadline==2.1\r\n",
      "PyRSS2Gen==1.1\r\n",
      "python-dateutil==2.4.2\r\n",
      "pytz==2015.6\r\n",
      "PyYAML==3.11\r\n",
      "pyzmq==14.7.0\r\n",
      "qtconsole==4.0.1\r\n",
      "requests==2.7.0\r\n",
      "simplegeneric==0.8.1\r\n",
      "six==1.9.0\r\n",
      "smartypants==1.8.6\r\n",
      "snowballstemmer==1.2.0\r\n",
      "Sphinx==1.3.1\r\n",
      "sphinx-rtd-theme==0.1.9\r\n",
      "terminado==0.5\r\n",
      "testpath==0.2\r\n",
      "tornado==4.2.1\r\n",
      "traitlets==4.0.0\r\n",
      "typogrify==2.0.7\r\n",
      "Unidecode==0.4.18\r\n",
      "watchdog==0.8.3\r\n",
      "webassets==0.11.1\r\n",
      "ws4py==0.3.4\r\n",
      "Yapsy==1.11.223\r\n"
     ]
    }
   ],
   "source": [
    "!pip freeze"
   ]
  },
  {
   "cell_type": "markdown",
   "metadata": {
    "slideshow": {
     "slide_type": "slide"
    }
   },
   "source": [
    "Now, highlight the ouput from the last cell and run:\n",
    "\n",
    "    pbpaste > requirements.txt\n",
    "\n",
    "We just took the contents of your clipboard (all the stuff you just copied) and wrote it to a new file, requirements.txt \n",
    "\n",
    "Now run:\n",
    "\n",
    "    pip install -r requirements.txt\n",
    "    \n",
    "which will install all the libraries you need to create your project :)\n",
    "\n",
    "---"
   ]
  },
  {
   "cell_type": "markdown",
   "metadata": {
    "slideshow": {
     "slide_type": "slide"
    }
   },
   "source": [
    "To create our project, we run\n",
    "\n",
    "    nikola init\n",
    "    \n",
    "The command will ask us a few questions. This first question isn't very clear, but it's asking what folder we want to create our project in. We don't want to create a new folder, so to use the one we're currently in, we just type in '.' (no single-quotes)\n",
    "\n",
    "For every other question, you can type in what you like or leave it blank. For the purpose of this demo, it's all the same.\n",
    "\n",
    "---"
   ]
  },
  {
   "cell_type": "markdown",
   "metadata": {
    "slideshow": {
     "slide_type": "slide"
    }
   },
   "source": [
    "Nikola has now created some folders for us as well as a configuration file, conf.py \n",
    "\n",
    "Let's now open our project in atom. Type:\n",
    "\n",
    "    atom .\n",
    "\n",
    "---"
   ]
  },
  {
   "cell_type": "markdown",
   "metadata": {
    "slideshow": {
     "slide_type": "slide"
    }
   },
   "source": [
    "Now, because we want to write content using Jupyter notbooks, we need to make a couple of slight changes to the conf.py file.\n",
    "\n",
    "In the left pane in atom, double-click on conf.py to open it and navigate to the POSTS and PAGES variables. We need to add .ipynb files as a format that nikola can use. We do that by adding a tuple to each of these variables like so:\n",
    "\n",
    "```python\n",
    "POSTS = (\n",
    "    (\"posts/*.rst\", \"posts\", \"post.tmpl\"),\n",
    "    (\"posts/*.txt\", \"posts\", \"post.tmpl\"),\n",
    "    (\"posts/*.ipynb\", \"posts\", \"post.tmpl\"),\n",
    ")\n",
    "PAGES = (\n",
    "    (\"stories/*.rst\", \"stories\", \"story.tmpl\"),\n",
    "    (\"stories/*.txt\", \"stories\", \"story.tmpl\"),\n",
    "    (\"stories/*.ipynb\", \"stories\", \"story.tmpl\"),\n",
    ")\n",
    "```\n",
    "\n",
    "Make sure to save the file once you've made the edits.\n",
    "\n",
    "---"
   ]
  },
  {
   "cell_type": "markdown",
   "metadata": {
    "slideshow": {
     "slide_type": "slide"
    }
   },
   "source": [
    "Now we can create a new post and specify Ipython Notebook as the format we want to use\n",
    "\n",
    "    nikola new_post -f ipynb\n",
    "    \n",
    "This will ask you what you want to call your post. Let's call it My First Post. This will create a file:\n",
    "\n",
    "posts/my-first-post.ipynb\n",
    "\n",
    "---"
   ]
  },
  {
   "cell_type": "markdown",
   "metadata": {
    "slideshow": {
     "slide_type": "slide"
    }
   },
   "source": [
    "Next open a new terminal and navigate to the posts/ directory in your project and run:\n",
    "\n",
    "    ipython notebook\n",
    "    \n",
    "You'll see a list of the ipython notebooks in that folder. There should only be the one we just created. Click on it, and it will open a new tab in your browser where we can edit that notebook.\n",
    "    \n",
    "In the other terminal window type in:\n",
    "\n",
    "    nikola auto -b\n",
    "    \n",
    "nikola is now running a server with your website on your machine that will be accessible in your browser window at localhost:8000 by default.\n",
    "\n",
    "---"
   ]
  },
  {
   "cell_type": "markdown",
   "metadata": {
    "slideshow": {
     "slide_type": "slide"
    }
   },
   "source": [
    "Now, as we make edits to our ipython notebook and save them, we can see how our site will change simultaneously without having to rebuid the website or even reload the webpage that our website is in!\n",
    "\n",
    "---"
   ]
  },
  {
   "cell_type": "markdown",
   "metadata": {
    "slideshow": {
     "slide_type": "slide"
    }
   },
   "source": [
    "Once we're done editing our notebook, let's save our changes to github. We should tell git to ignore some files first:\n",
    "\n",
    "```\n",
    "_site/\n",
    "*.pyc\n",
    ".DS_Store\n",
    "cache/\n",
    "output/\n",
    "**/.ipynb_checkpoints/\n",
    "```\n",
    "\n",
    "Save those lines to a file .gitignore in your project's root directory. You can do this by typing in atom .gitignore from the project root or if you prefer, you can copy those lines and type:\n",
    "\n",
    "    pbpaste > .gitignore\n",
    "    \n",
    "---"
   ]
  },
  {
   "cell_type": "markdown",
   "metadata": {
    "slideshow": {
     "slide_type": "slide"
    }
   },
   "source": [
    "Next, let's commit our changes on our local machine. Type in:\n",
    "\n",
    "    git add .\n",
    "    git commit -m \"Initial commit.\"\n",
    "\n"
   ]
  }
 ],
 "metadata": {
  "celltoolbar": "Slideshow",
  "kernelspec": {
   "display_name": "Python 3",
   "language": "python",
   "name": "python3"
  },
  "language_info": {
   "codemirror_mode": {
    "name": "ipython",
    "version": 3
   },
   "file_extension": ".py",
   "mimetype": "text/x-python",
   "name": "python",
   "nbconvert_exporter": "python",
   "pygments_lexer": "ipython3",
   "version": "3.4.3"
  }
 },
 "nbformat": 4,
 "nbformat_minor": 0
}
