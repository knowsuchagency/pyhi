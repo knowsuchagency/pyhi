{
 "cells": [
  {
   "cell_type": "markdown",
   "metadata": {
    "slideshow": {
     "slide_type": "slide"
    }
   },
   "source": [
    "## Why functions?"
   ]
  },
  {
   "cell_type": "markdown",
   "metadata": {
    "slideshow": {
     "slide_type": "fragment"
    }
   },
   "source": [
    "* Pure functions can make your programs easier to understand and debug, especially if you use sane variable names and write good docstrings."
   ]
  },
  {
   "cell_type": "markdown",
   "metadata": {
    "slideshow": {
     "slide_type": "fragment"
    }
   },
   "source": [
    "* You can decorate functions to add functionality without changing their logic."
   ]
  },
  {
   "cell_type": "markdown",
   "metadata": {
    "slideshow": {
     "slide_type": "fragment"
    }
   },
   "source": [
    "* Pure functions can often better represent the mathematic definition of their algorithms.\n",
    "<!-- TEASER_END -->"
   ]
  },
  {
   "cell_type": "markdown",
   "metadata": {
    "slideshow": {
     "slide_type": "slide"
    }
   },
   "source": [
    "## What is a pure function?"
   ]
  },
  {
   "cell_type": "markdown",
   "metadata": {
    "slideshow": {
     "slide_type": "fragment"
    }
   },
   "source": [
    "> A pure function is a function where the return value is only determined by its input values, without observable side effects. This is how functions in math work: Math.cos(x) will, for the same value of x , always return the same result. - [sitepoint](www.sitepoint.com/functional-programming-pure-functions/)"
   ]
  },
  {
   "cell_type": "markdown",
   "metadata": {
    "slideshow": {
     "slide_type": "slide"
    }
   },
   "source": [
    "### Let's Try\n",
    "* Take a positive integer as an input\n",
    "* Square each number in the range of our input \n",
    "* Return the sum of those numbers"
   ]
  },
  {
   "cell_type": "markdown",
   "metadata": {
    "slideshow": {
     "slide_type": "slide"
    }
   },
   "source": [
    "### Procedural"
   ]
  },
  {
   "cell_type": "code",
   "execution_count": 1,
   "metadata": {
    "collapsed": false,
    "slideshow": {
     "slide_type": "fragment"
    }
   },
   "outputs": [
    {
     "data": {
      "text/plain": [
       "285"
      ]
     },
     "execution_count": 1,
     "metadata": {},
     "output_type": "execute_result"
    }
   ],
   "source": [
    "def sum_squares_p(num):\n",
    "    \"\"\"Return the sum of the squares in a given range.\"\"\"\n",
    "    total = 0\n",
    "    for n in range(num):\n",
    "        square = n ** 2\n",
    "        total += square\n",
    "    return total\n",
    "\n",
    "sum_squares_p(10)"
   ]
  },
  {
   "cell_type": "markdown",
   "metadata": {
    "slideshow": {
     "slide_type": "slide"
    }
   },
   "source": [
    "### Object-Oriented"
   ]
  },
  {
   "cell_type": "code",
   "execution_count": 2,
   "metadata": {
    "collapsed": false,
    "slideshow": {
     "slide_type": "fragment"
    }
   },
   "outputs": [
    {
     "data": {
      "text/plain": [
       "285"
      ]
     },
     "execution_count": 2,
     "metadata": {},
     "output_type": "execute_result"
    }
   ],
   "source": [
    "def sum_squares_oo(num):\n",
    "    \"\"\"Return the sum of the squares in a given range.\"\"\"\n",
    "    total = []\n",
    "    for n in range(num):\n",
    "        total.append(n**2)\n",
    "    return sum(total)\n",
    "\n",
    "sum_squares_oo(10)"
   ]
  },
  {
   "cell_type": "markdown",
   "metadata": {
    "slideshow": {
     "slide_type": "slide"
    }
   },
   "source": [
    "### Comprehension"
   ]
  },
  {
   "cell_type": "code",
   "execution_count": 3,
   "metadata": {
    "collapsed": false,
    "slideshow": {
     "slide_type": "fragment"
    }
   },
   "outputs": [
    {
     "data": {
      "text/plain": [
       "285"
      ]
     },
     "execution_count": 3,
     "metadata": {},
     "output_type": "execute_result"
    }
   ],
   "source": [
    "sum(n**2 for n in range(10))"
   ]
  },
  {
   "cell_type": "markdown",
   "metadata": {
    "slideshow": {
     "slide_type": "slide"
    }
   },
   "source": [
    "## Iterables vs Iterators"
   ]
  },
  {
   "cell_type": "markdown",
   "metadata": {
    "slideshow": {
     "slide_type": "fragment"
    }
   },
   "source": [
    "> Data Structures and Algorithms in Python\n",
    "By: Michael T. Goodrich; Roberto Tamassia; Michael H. Goldwasser\n",
    "* An iterator is an object that manages an iteration through a series of values. If variable, i, identifies an iterator object, then each call to the built-in function, next(i), produces a subsequent element from the underlying series, with a StopIteration exception raised to indicate that there are no further elements.\n",
    "* An iterable is an object, obj, that produces an iterator via the syntax iter(obj)."
   ]
  },
  {
   "cell_type": "code",
   "execution_count": 4,
   "metadata": {
    "collapsed": false,
    "slideshow": {
     "slide_type": "slide"
    }
   },
   "outputs": [
    {
     "name": "stdout",
     "output_type": "stream",
     "text": [
      "1\n",
      "2\n",
      "3\n",
      "4\n",
      "5\n",
      "Fail! 'list' object is not an iterator\n"
     ]
    }
   ],
   "source": [
    "# Lists are iterable but they are not iterators because they have no next method\n",
    "l = [1, 2, 3, 4, 5]\n",
    "\n",
    "for i in l:\n",
    "    print(i)\n",
    "    \n",
    "try:\n",
    "    next(l)\n",
    "except TypeError as e:\n",
    "    print('Fail!', e)"
   ]
  },
  {
   "cell_type": "code",
   "execution_count": 5,
   "metadata": {
    "collapsed": false,
    "slideshow": {
     "slide_type": "slide"
    }
   },
   "outputs": [
    {
     "name": "stdout",
     "output_type": "stream",
     "text": [
      "1\n",
      "2\n",
      "3\n",
      "4\n",
      "5\n",
      "Our iterator is exhausted!\n"
     ]
    }
   ],
   "source": [
    "# However, we can create iterators from iterables, like lists\n",
    "l = [1, 2, 3, 4, 5]\n",
    "\n",
    "iterator = iter(l)\n",
    "\n",
    "try:\n",
    "    while True:\n",
    "        print(next(iterator))\n",
    "except StopIteration:\n",
    "    print('Our iterator is exhausted!')"
   ]
  },
  {
   "cell_type": "markdown",
   "metadata": {
    "slideshow": {
     "slide_type": "slide"
    }
   },
   "source": [
    "### Generator Function"
   ]
  },
  {
   "cell_type": "markdown",
   "metadata": {
    "slideshow": {
     "slide_type": "fragment"
    }
   },
   "source": [
    "* A generator is basically a procedure that returns an iterator"
   ]
  },
  {
   "cell_type": "code",
   "execution_count": 6,
   "metadata": {
    "collapsed": false,
    "slideshow": {
     "slide_type": "fragment"
    }
   },
   "outputs": [
    {
     "name": "stdout",
     "output_type": "stream",
     "text": [
      "0\n",
      "1\n",
      "4\n",
      "9\n",
      "16\n",
      "25\n",
      "36\n",
      "49\n",
      "64\n",
      "81\n",
      "sum: 285\n"
     ]
    }
   ],
   "source": [
    "def gen_squares(num):\n",
    "    \"\"\"Yield each square in a given range.\"\"\"\n",
    "    for n in range(num):\n",
    "        yield n**2\n",
    "\n",
    "for x in gen_squares(10):\n",
    "    print(x)\n",
    "\n",
    "print('sum:', sum(gen_squares(10)))"
   ]
  },
  {
   "cell_type": "markdown",
   "metadata": {
    "slideshow": {
     "slide_type": "slide"
    }
   },
   "source": [
    "### Recursion"
   ]
  },
  {
   "cell_type": "code",
   "execution_count": 7,
   "metadata": {
    "collapsed": false,
    "slideshow": {
     "slide_type": "fragment"
    }
   },
   "outputs": [
    {
     "data": {
      "text/plain": [
       "385"
      ]
     },
     "execution_count": 7,
     "metadata": {},
     "output_type": "execute_result"
    }
   ],
   "source": [
    "def square_and_sum_recursive(n):\n",
    "    \"\"\"Return the sum of the squares in the range n + 1.\"\"\"\n",
    "    if n < 2:\n",
    "        return n\n",
    "    else:\n",
    "        return n**2 + square_and_sum_recursive(n-1)\n",
    "    \n",
    "square_and_sum_recursive(10)"
   ]
  },
  {
   "cell_type": "code",
   "execution_count": 8,
   "metadata": {
    "collapsed": false,
    "slideshow": {
     "slide_type": "slide"
    }
   },
   "outputs": [
    {
     "data": {
      "text/plain": [
       "285"
      ]
     },
     "execution_count": 8,
     "metadata": {},
     "output_type": "execute_result"
    }
   ],
   "source": [
    "# We can add a flag to skip our initial input.\n",
    "def square_and_sum_recursive(n, flag=False):\n",
    "    \"\"\"\n",
    "    Return the sum of the squares in range n.\n",
    "    \n",
    "    The initial input is not computed by default.\n",
    "    If flag is set to True, then it will be.\n",
    "    \"\"\"\n",
    "    if n < 2:\n",
    "        return n\n",
    "    elif not flag:\n",
    "        return square_and_sum_recursive(n-1, flag=True)\n",
    "    else:\n",
    "        return n**2 + square_and_sum_recursive(n-1, flag=True)\n",
    "    \n",
    "square_and_sum_recursive(10)"
   ]
  },
  {
   "cell_type": "markdown",
   "metadata": {
    "slideshow": {
     "slide_type": "slide"
    }
   },
   "source": [
    "### Anonymous Functions"
   ]
  },
  {
   "cell_type": "code",
   "execution_count": 9,
   "metadata": {
    "collapsed": false,
    "slideshow": {
     "slide_type": "fragment"
    }
   },
   "outputs": [
    {
     "name": "stdout",
     "output_type": "stream",
     "text": [
      "81\n",
      "5\n"
     ]
    }
   ],
   "source": [
    "square = lambda x: x**2\n",
    "print(square(9))\n",
    "\n",
    "add = lambda x, y: x + y\n",
    "print(add(2, 3))"
   ]
  },
  {
   "cell_type": "markdown",
   "metadata": {
    "slideshow": {
     "slide_type": "slide"
    }
   },
   "source": [
    "### Higher Order Functions"
   ]
  },
  {
   "cell_type": "code",
   "execution_count": 10,
   "metadata": {
    "collapsed": true,
    "slideshow": {
     "slide_type": "skip"
    }
   },
   "outputs": [],
   "source": [
    "from functools import reduce"
   ]
  },
  {
   "cell_type": "markdown",
   "metadata": {
    "slideshow": {
     "slide_type": "fragment"
    }
   },
   "source": [
    "* You'll often see lambdas used in conjunction with the higher order functions map(), filter(), and reduce()."
   ]
  },
  {
   "cell_type": "code",
   "execution_count": 11,
   "metadata": {
    "collapsed": false,
    "slideshow": {
     "slide_type": "fragment"
    }
   },
   "outputs": [
    {
     "name": "stdout",
     "output_type": "stream",
     "text": [
      "map(func, *iterables) --> map object\n",
      "\n",
      "Make an iterator that computes the function using arguments from\n",
      "each of the iterables.  Stops when the shortest iterable is exhausted.\n"
     ]
    }
   ],
   "source": [
    "print(map.__doc__)"
   ]
  },
  {
   "cell_type": "code",
   "execution_count": 12,
   "metadata": {
    "collapsed": false,
    "slideshow": {
     "slide_type": "fragment"
    }
   },
   "outputs": [
    {
     "name": "stdout",
     "output_type": "stream",
     "text": [
      "filter(function or None, iterable) --> filter object\n",
      "\n",
      "Return an iterator yielding those items of iterable for which function(item)\n",
      "is true. If function is None, return the items that are true.\n"
     ]
    }
   ],
   "source": [
    "print(filter.__doc__)"
   ]
  },
  {
   "cell_type": "code",
   "execution_count": 13,
   "metadata": {
    "collapsed": false,
    "slideshow": {
     "slide_type": "fragment"
    }
   },
   "outputs": [
    {
     "name": "stdout",
     "output_type": "stream",
     "text": [
      "reduce(function, sequence[, initial]) -> value\n",
      "\n",
      "Apply a function of two arguments cumulatively to the items of a sequence,\n",
      "from left to right, so as to reduce the sequence to a single value.\n",
      "For example, reduce(lambda x, y: x+y, [1, 2, 3, 4, 5]) calculates\n",
      "((((1+2)+3)+4)+5).  If initial is present, it is placed before the items\n",
      "of the sequence in the calculation, and serves as a default when the\n",
      "sequence is empty.\n"
     ]
    }
   ],
   "source": [
    "print(reduce.__doc__)"
   ]
  },
  {
   "cell_type": "code",
   "execution_count": 14,
   "metadata": {
    "collapsed": false,
    "slideshow": {
     "slide_type": "slide"
    }
   },
   "outputs": [
    {
     "data": {
      "text/plain": [
       "285"
      ]
     },
     "execution_count": 14,
     "metadata": {},
     "output_type": "execute_result"
    }
   ],
   "source": [
    "# The sum of numbers 0-9 squared\n",
    "reduce(lambda x, y: x + y, map(lambda x: x**2, range(10)))"
   ]
  },
  {
   "cell_type": "code",
   "execution_count": 15,
   "metadata": {
    "collapsed": false,
    "slideshow": {
     "slide_type": "fragment"
    }
   },
   "outputs": [
    {
     "data": {
      "text/plain": [
       "[1, 3, 5, 7, 9, 11, 13, 15, 17, 19]"
      ]
     },
     "execution_count": 15,
     "metadata": {},
     "output_type": "execute_result"
    }
   ],
   "source": [
    "# Filter out even numbers in the range 20\n",
    "list(filter(lambda x: x % 2 != 0, range(20)))"
   ]
  },
  {
   "cell_type": "code",
   "execution_count": 16,
   "metadata": {
    "collapsed": false,
    "slideshow": {
     "slide_type": "skip"
    }
   },
   "outputs": [],
   "source": [
    "import os.path\n",
    "home = os.path.expanduser('~')\n",
    "filename = os.path.join(home, 'git', 'pyhi', 'galleries', 'euler_92.png')"
   ]
  },
  {
   "cell_type": "code",
   "execution_count": 17,
   "metadata": {
    "collapsed": false,
    "slideshow": {
     "slide_type": "slide"
    }
   },
   "outputs": [
    {
     "data": {
      "image/png": "[encoded data removed]",
      "text/plain": [
       "<IPython.core.display.Image object>"
      ]
     },
     "execution_count": 17,
     "metadata": {
      "image/png": {
       "height": 334,
       "width": 710
      }
     },
     "output_type": "execute_result"
    }
   ],
   "source": [
    "from IPython.display import Image\n",
    "Image(filename=filename, retina=True)"
   ]
  },
  {
   "cell_type": "code",
   "execution_count": 18,
   "metadata": {
    "collapsed": false,
    "slideshow": {
     "slide_type": "slide"
    }
   },
   "outputs": [
    {
     "name": "stdout",
     "output_type": "stream",
     "text": [
      "[8, 7, 6, 5]\n"
     ]
    },
    {
     "data": {
      "text/plain": [
       "32"
      ]
     },
     "execution_count": 18,
     "metadata": {},
     "output_type": "execute_result"
    }
   ],
   "source": [
    "def split_decimal(decimal):\n",
    "    \"\"\"Yield the component integers of a decimal numnber.\"\"\"\n",
    "    while decimal:\n",
    "        yield decimal % 10\n",
    "        decimal = decimal // 10\n",
    "        \n",
    "print(list(split_decimal(5678)))\n",
    "\n",
    "def sum_squares(n):\n",
    "    \"\"\"Return the sum of the square of each integer in a given decimal number.\"\"\"\n",
    "    return sum(n**2 for n in split_decimal(n))\n",
    "\n",
    "sum_squares(44)"
   ]
  },
  {
   "cell_type": "code",
   "execution_count": 19,
   "metadata": {
    "collapsed": false,
    "slideshow": {
     "slide_type": "slide"
    }
   },
   "outputs": [
    {
     "data": {
      "text/plain": [
       "[44, 32, 13, 10, 1]"
      ]
     },
     "execution_count": 19,
     "metadata": {},
     "output_type": "execute_result"
    }
   ],
   "source": [
    "def chain(n):\n",
    "    \"\"\"\n",
    "    Yield numbers where each successive number is the sum of\n",
    "    the digits in the input.\n",
    "    \"\"\"\n",
    "    yield n\n",
    "    while n != 1 and n != 89:\n",
    "        # Notice how much cleaner map is in this case than:\n",
    "        # sum(x**2 for x in [int(c) for c in [i for i in str(n)]])\n",
    "        n = sum(x**2 for x in map(int, str(n)))\n",
    "        yield n\n",
    "        \n",
    "list(chain(44))"
   ]
  },
  {
   "cell_type": "markdown",
   "metadata": {
    "slideshow": {
     "slide_type": "slide"
    }
   },
   "source": [
    "### Combining Functions"
   ]
  },
  {
   "cell_type": "code",
   "execution_count": 20,
   "metadata": {
    "collapsed": false,
    "slideshow": {
     "slide_type": "fragment"
    }
   },
   "outputs": [
    {
     "name": "stdout",
     "output_type": "stream",
     "text": [
      "[44, 32, 13, 10, 1]\n"
     ]
    }
   ],
   "source": [
    "def generate(x, f, z):\n",
    "    \"\"\"Return a list of the output of g(f(x)) until z(x) is True.\"\"\"\n",
    "    if z(x):\n",
    "        return [x]\n",
    "    else:\n",
    "        return [x] + generate(f(x), f, z)\n",
    "    \n",
    "print(generate(44, sum_squares, lambda x: x in {1, 89}))"
   ]
  },
  {
   "cell_type": "code",
   "execution_count": 21,
   "metadata": {
    "collapsed": false,
    "slideshow": {
     "slide_type": "slide"
    }
   },
   "outputs": [
    {
     "name": "stdout",
     "output_type": "stream",
     "text": [
      "[44, 32, 13, 10, 1]\n"
     ]
    }
   ],
   "source": [
    "def recursively_generate(x, f, z):\n",
    "    \"\"\"Yield g(f(x)) until z(x) is True.\"\"\"\n",
    "    if z(x):\n",
    "        yield x\n",
    "    else:\n",
    "        yield x\n",
    "        yield from generate(f(x), f, z)\n",
    "        # In Python 2 you would write:\n",
    "        # for i in generate(f(x), f, z): yield i\n",
    "    \n",
    "print(list(recursively_generate(44, sum_squares, lambda x: x in {1, 89})))"
   ]
  },
  {
   "cell_type": "markdown",
   "metadata": {
    "slideshow": {
     "slide_type": "slide"
    }
   },
   "source": [
    "### Decorating Functions to Add Functionality"
   ]
  },
  {
   "cell_type": "code",
   "execution_count": 22,
   "metadata": {
    "collapsed": false,
    "slideshow": {
     "slide_type": "fragment"
    }
   },
   "outputs": [
    {
     "name": "stdout",
     "output_type": "stream",
     "text": [
      "function name: sum_squares\n",
      "args: (34,)\n",
      "keyword arguments: {}\n",
      "returned: 25\n",
      "25\n",
      "\n",
      "Failed as expected :) All args must be positive (-34,)\n"
     ]
    }
   ],
   "source": [
    "def document(func):\n",
    "    def new_func(*args, **kwargs):\n",
    "        print('function name:', func.__name__)\n",
    "        print('args:', args)\n",
    "        print('keyword arguments:', kwargs)\n",
    "        returned = func(*args, **kwargs)\n",
    "        print('returned:', returned)\n",
    "        return returned\n",
    "    return new_func\n",
    "\n",
    "def assert_positive(func):\n",
    "    def new_func(*args, **kwargs):\n",
    "        assert all(n > 0 for n in args), \\\n",
    "        \"All args must be positive {}\".format(args)\n",
    "        return func(*args, **kwargs)\n",
    "    return new_func\n",
    "\n",
    "@assert_positive\n",
    "@document\n",
    "def sum_squares(n):\n",
    "    return sum(n**2 for n in split_decimal(n))\n",
    "\n",
    "print(sum_squares(34))\n",
    "\n",
    "try:\n",
    "    print(sum_squares(-34))\n",
    "except AssertionError as e:\n",
    "    print()\n",
    "    print('Failed as expected :)', e)"
   ]
  },
  {
   "cell_type": "markdown",
   "metadata": {
    "slideshow": {
     "slide_type": "slide"
    }
   },
   "source": [
    "### Memoization"
   ]
  },
  {
   "cell_type": "code",
   "execution_count": 23,
   "metadata": {
    "collapsed": false,
    "slideshow": {
     "slide_type": "slide"
    }
   },
   "outputs": [
    {
     "name": "stdout",
     "output_type": "stream",
     "text": [
      "Computing fib of 5\n",
      "Computing fib of 4\n",
      "Computing fib of 3\n",
      "Computing fib of 2\n",
      "Computing fib of 1\n",
      "Computing fib of 0\n",
      "Computing fib of 1\n",
      "Computing fib of 2\n",
      "Computing fib of 1\n",
      "Computing fib of 0\n",
      "Computing fib of 3\n",
      "Computing fib of 2\n",
      "Computing fib of 1\n",
      "Computing fib of 0\n",
      "Computing fib of 1\n"
     ]
    },
    {
     "data": {
      "text/plain": [
       "5"
      ]
     },
     "execution_count": 23,
     "metadata": {},
     "output_type": "execute_result"
    }
   ],
   "source": [
    "def fib(n):\n",
    "    \"\"\"A basic implementation of the the fibonacci sequence.\"\"\"\n",
    "    print('Computing fib of {}'.format(n))\n",
    "    if n < 2:\n",
    "        return n\n",
    "    return fib(n-1) + fib(n-2)\n",
    "\n",
    "fib(5)"
   ]
  },
  {
   "cell_type": "code",
   "execution_count": 24,
   "metadata": {
    "collapsed": false,
    "slideshow": {
     "slide_type": "slide"
    }
   },
   "outputs": [
    {
     "name": "stdout",
     "output_type": "stream",
     "text": [
      "Computing fib of 8\n",
      "Computing fib of 7\n",
      "Computing fib of 6\n",
      "Computing fib of 5\n",
      "Computing fib of 4\n",
      "Computing fib of 3\n",
      "Computing fib of 2\n",
      "Computing fib of 1\n",
      "Computing fib of 0\n"
     ]
    },
    {
     "data": {
      "text/plain": [
       "21"
      ]
     },
     "execution_count": 24,
     "metadata": {},
     "output_type": "execute_result"
    }
   ],
   "source": [
    "def memoize(func):\n",
    "    \"\"\"Memoize recursive functions.\"\"\"\n",
    "    memo = {}\n",
    "    def wrapped(*args):\n",
    "        # args = tuple(str(arg) for arg in args)\n",
    "        if args not in memo:\n",
    "            memo[args] = func(*args)\n",
    "        return memo[args]\n",
    "    return wrapped\n",
    "\n",
    "@memoize\n",
    "def fib(n):\n",
    "    \"\"\"A basic implementation of the the fibonacci sequence.\"\"\"\n",
    "    print('Computing fib of {}'.format(n))\n",
    "    if n < 2:\n",
    "        return n\n",
    "    return fib(n-1) + fib(n-2)\n",
    "\n",
    "fib(8)"
   ]
  },
  {
   "cell_type": "markdown",
   "metadata": {
    "slideshow": {
     "slide_type": "slide"
    }
   },
   "source": [
    "### A solution to [Project Euler #92 ](https://projecteuler.net/problem=92)!"
   ]
  },
  {
   "cell_type": "code",
   "execution_count": 25,
   "metadata": {
    "collapsed": false,
    "slideshow": {
     "slide_type": "slide"
    }
   },
   "outputs": [
    {
     "name": "stdout",
     "output_type": "stream",
     "text": [
      "result: 8581146\n",
      "0.6599188645680746 minutes elapsed.\n"
     ]
    }
   ],
   "source": [
    "def split_decimal(decimal):\n",
    "    \"\"\"Yield the component integers of a decimal number.\"\"\"\n",
    "    while decimal:\n",
    "        yield decimal % 10\n",
    "        decimal = decimal // 10\n",
    "\n",
    "def sum_squares(n, squares=[n**2 for n in range(10)]):\n",
    "    \"\"\"\n",
    "    Return the sum of the square of each integer in a given decimal number.\n",
    "    \n",
    "    It is interesting to note that the squares keyword argument \n",
    "    is only computed once at runtime.\n",
    "    We are creating something like a global variable without polluting the\n",
    "    global namespace. To keep this function 'pure', however, we have to\n",
    "    resort to a dirty assertion hack.\n",
    "    \"\"\"\n",
    "    assert squares is sum_squares.__defaults__[0], \\\n",
    "    \"Don't modify squares argument.\"\n",
    "    total = 0\n",
    "    for i in split_decimal(n):\n",
    "        total +=  squares[i]\n",
    "    return total\n",
    "\n",
    "def chain(n):\n",
    "    \"\"\"\n",
    "    Yield numbers where each successive number\n",
    "    is the sum of the integers in the input\n",
    "    until 1 or 89 is reached.\n",
    "    \"\"\"\n",
    "    yield n\n",
    "    while n != 1 and n != 89:\n",
    "        n = sum_squares(n)\n",
    "        yield n\n",
    "        \n",
    "def main(number):\n",
    "    ones = {1}\n",
    "    eighty_nines = {89}\n",
    "    for num in range(2, number+1):\n",
    "        temp = set()\n",
    "        for n in chain(num):\n",
    "            temp.add(n)\n",
    "            if n == 89 or n in eighty_nines:\n",
    "                eighty_nines.update(temp)\n",
    "                break\n",
    "            elif n == 1 or n in ones:\n",
    "                ones.update(temp)\n",
    "                break\n",
    "    return len(eighty_nines)\n",
    "    \n",
    "if __name__ == '__main__':\n",
    "    import time\n",
    "    start = time.time()\n",
    "    print('result:', main(10000000))\n",
    "    print('{} minutes elapsed.'.format((time.time() - start)/60))"
   ]
  }
 ],
 "metadata": {
  "celltoolbar": "Slideshow",
  "kernelspec": {
   "display_name": "Python 3",
   "language": "python",
   "name": "python3"
  },
  "language_info": {
   "codemirror_mode": {
    "name": "ipython",
    "version": 3
   },
   "file_extension": ".py",
   "mimetype": "text/x-python",
   "name": "python",
   "nbconvert_exporter": "python",
   "pygments_lexer": "ipython3",
   "version": "3.4.3"
  },
  "nikola": {
   "category": "",
   "date": "2015-08-28 17:58:48 UTC-10:00",
   "description": "",
   "link": "",
   "slug": "functional-python",
   "tags": "python, functions, memoization, recursion, iterators, iterables, decorators, project euler",
   "title": "FUNctional Python",
   "type": "text"
  }
 },
 "nbformat": 4,
 "nbformat_minor": 0
}
